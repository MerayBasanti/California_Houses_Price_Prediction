{
 "cells": [
  {
   "cell_type": "markdown",
   "id": "219df0a9",
   "metadata": {},
   "source": [
    "# Regression problem"
   ]
  },
  {
   "cell_type": "code",
   "execution_count": 2,
   "id": "b5287fd3",
   "metadata": {},
   "outputs": [
    {
     "name": "stdout",
     "output_type": "stream",
     "text": [
      "       Median_House_Value  Median_Income  Median_Age  Tot_Rooms  Tot_Bedrooms  \\\n",
      "0                452600.0         8.3252          41        880           129   \n",
      "1                358500.0         8.3014          21       7099          1106   \n",
      "2                352100.0         7.2574          52       1467           190   \n",
      "3                341300.0         5.6431          52       1274           235   \n",
      "4                342200.0         3.8462          52       1627           280   \n",
      "...                   ...            ...         ...        ...           ...   \n",
      "20635             78100.0         1.5603          25       1665           374   \n",
      "20636             77100.0         2.5568          18        697           150   \n",
      "20637             92300.0         1.7000          17       2254           485   \n",
      "20638             84700.0         1.8672          18       1860           409   \n",
      "20639             89400.0         2.3886          16       2785           616   \n",
      "\n",
      "       Population  Households  Latitude  Longitude  Distance_to_coast  \\\n",
      "0             322         126     37.88    -122.23        9263.040773   \n",
      "1            2401        1138     37.86    -122.22       10225.733072   \n",
      "2             496         177     37.85    -122.24        8259.085109   \n",
      "3             558         219     37.85    -122.25        7768.086571   \n",
      "4             565         259     37.85    -122.25        7768.086571   \n",
      "...           ...         ...       ...        ...                ...   \n",
      "20635         845         330     39.48    -121.09      162031.481121   \n",
      "20636         356         114     39.49    -121.21      160445.433537   \n",
      "20637        1007         433     39.43    -121.22      153754.341182   \n",
      "20638         741         349     39.43    -121.32      152005.022239   \n",
      "20639        1387         530     39.37    -121.24      146866.196892   \n",
      "\n",
      "       Distance_to_LA  Distance_to_SanDiego  Distance_to_SanJose  \\\n",
      "0       556529.158342         735501.806984         67432.517001   \n",
      "1       554279.850069         733236.884360         65049.908574   \n",
      "2       554610.717069         733525.682937         64867.289833   \n",
      "3       555194.266086         734095.290744         65287.138412   \n",
      "4       555194.266086         734095.290744         65287.138412   \n",
      "...               ...                   ...                  ...   \n",
      "20635   654530.186299         830631.543047        248510.058162   \n",
      "20636   659747.068444         836245.915229        246849.888948   \n",
      "20637   654042.214020         830699.573163        240172.220489   \n",
      "20638   657698.007703         834672.461887        238193.865909   \n",
      "20639   648723.337126         825569.179028        233282.769063   \n",
      "\n",
      "       Distance_to_SanFrancisco  \n",
      "0                  21250.213767  \n",
      "1                  20880.600400  \n",
      "2                  18811.487450  \n",
      "3                  18031.047568  \n",
      "4                  18031.047568  \n",
      "...                         ...  \n",
      "20635             222619.890417  \n",
      "20636             218314.424634  \n",
      "20637             212097.936232  \n",
      "20638             207923.199166  \n",
      "20639             205473.376575  \n",
      "\n",
      "[20640 rows x 14 columns]\n"
     ]
    }
   ],
   "source": [
    "import numpy as np\n",
    "import pandas as pd\n",
    "houses=pd.read_csv(r\"C:\\Users\\Kimo Store\\Downloads\\California_Houses.csv\")\n",
    "print(houses)"
   ]
  },
  {
   "cell_type": "markdown",
   "id": "0ad6805c",
   "metadata": {},
   "source": [
    "# scaling and spliting the data"
   ]
  },
  {
   "cell_type": "code",
   "execution_count": 3,
   "id": "3a90eebb",
   "metadata": {},
   "outputs": [],
   "source": [
    "from sklearn.model_selection import train_test_split\n",
    "from sklearn.preprocessing import StandardScaler\n",
    "scaler = StandardScaler()\n",
    "houses_scaled = scaler.fit_transform(houses)\n",
    "houses_df = pd.DataFrame(houses_scaled, columns=houses.columns)\n",
    "x = houses_df.drop(columns=['Median_House_Value'])\n",
    "y = houses_df['Median_House_Value']\n",
    "x_train_temp,x_test,y_train_temp,y_test=train_test_split(x,y,test_size=0.15,random_state=42)\n",
    "x_train,x_val,y_train,y_val=train_test_split(x_train_temp,y_train_temp,test_size=0.15,random_state=42)"
   ]
  },
  {
   "cell_type": "markdown",
   "id": "18d4c437",
   "metadata": {},
   "source": [
    "# Normal Form"
   ]
  },
  {
   "cell_type": "code",
   "execution_count": 4,
   "id": "0f1c0e12",
   "metadata": {},
   "outputs": [
    {
     "name": "stdout",
     "output_type": "stream",
     "text": [
      "[ 0.6437721   0.09562679 -0.10770638  0.37599405 -0.39090258  0.15575102\n",
      " -0.81614346 -0.47776568 -0.09888045 -0.31636243  0.59303905  0.30582771\n",
      " -0.30261464]\n"
     ]
    }
   ],
   "source": [
    "theta_best=np.linalg.inv(x.T.dot(x)).dot(x.T).dot(y)\n",
    "print (theta_best)"
   ]
  },
  {
   "cell_type": "markdown",
   "id": "d395addc",
   "metadata": {},
   "source": [
    "# Linear model"
   ]
  },
  {
   "cell_type": "code",
   "execution_count": 5,
   "id": "2be2c14d",
   "metadata": {},
   "outputs": [
    {
     "name": "stdout",
     "output_type": "stream",
     "text": [
      "-0.002987855193555534 [ 0.64876079  0.0988308  -0.1128463   0.38846674 -0.38255746  0.14735208\n",
      " -0.73090415 -0.48846207 -0.1068654  -0.29806472  0.49427302  0.25703133\n",
      " -0.2408786 ]\n",
      "\n",
      "the validation MSE is: 0.3429643984034005\n",
      " the validation MAE is: 0.42915875149838717 \n",
      "\n",
      "the testing MSE is: 0.3647685789140141\n",
      " the testing MAE is: 0.43966934499709037 \n"
     ]
    }
   ],
   "source": [
    "from sklearn.linear_model import LinearRegression\n",
    "from sklearn.metrics import mean_squared_error\n",
    "from sklearn.metrics import mean_absolute_error\n",
    "lin_reg=LinearRegression()\n",
    "lin_reg.fit(x_train,y_train)\n",
    "print(lin_reg.intercept_,lin_reg.coef_)\n",
    "# validation\n",
    "lin_y_val_predict=lin_reg.predict(x_val)\n",
    "val_error_squared=mean_squared_error(y_val,lin_y_val_predict)\n",
    "val_error_absolute=mean_absolute_error(y_val,lin_y_val_predict)\n",
    "print(f\"\\nthe validation MSE is: {val_error_squared}\\n the validation MAE is: {val_error_absolute} \")\n",
    "#testing\n",
    "lin_y_test_predict=lin_reg.predict(x_test)\n",
    "test_error_squared=mean_squared_error(y_test,lin_y_test_predict)\n",
    "test_error_absolute=mean_absolute_error(y_test,lin_y_test_predict)\n",
    "print(f\"\\nthe testing MSE is: {test_error_squared}\\n the testing MAE is: {test_error_absolute} \")"
   ]
  },
  {
   "cell_type": "markdown",
   "id": "cffab0a1",
   "metadata": {},
   "source": [
    "# Ridge "
   ]
  },
  {
   "cell_type": "code",
   "execution_count": 6,
   "id": "89d586bf",
   "metadata": {},
   "outputs": [
    {
     "name": "stdout",
     "output_type": "stream",
     "text": [
      "-0.0029878786727155103 [ 0.64874919  0.09884991 -0.11282145  0.388461   -0.38255178  0.14733023\n",
      " -0.72950054 -0.48860092 -0.1069757  -0.29784877  0.4925844   0.25642056\n",
      " -0.2402688 ]\n",
      "\n",
      "the validation MSE is: 0.34297471964972753\n",
      " the validation MAE is: 0.429168187926913 \n",
      "\n",
      "the testing MSE is:0.3647715600883362\n",
      " the testing MAE is: 0.4396751528420867 \n"
     ]
    }
   ],
   "source": [
    "from sklearn.linear_model import Ridge\n",
    "ridge_reg=Ridge(alpha=0.1,solver=\"cholesky\")\n",
    "ridge_reg.fit(x_train,y_train)\n",
    "print(ridge_reg.intercept_,ridge_reg.coef_)\n",
    "# validation\n",
    "r_y_val_predict=ridge_reg.predict(x_val)\n",
    "val_error_squared=mean_squared_error(y_val,r_y_val_predict)\n",
    "val_error_absolute=mean_absolute_error(y_val,r_y_val_predict)\n",
    "print(f\"\\nthe validation MSE is: {val_error_squared}\\n the validation MAE is: {val_error_absolute} \")\n",
    "#testing\n",
    "r_y_test_predict=ridge_reg.predict(x_test)\n",
    "test_error_squared=mean_squared_error(y_test,r_y_test_predict)\n",
    "test_error_absolute=mean_absolute_error(y_test,r_y_test_predict)\n",
    "print(f\"\\nthe testing MSE is:{test_error_squared}\\n the testing MAE is: {test_error_absolute} \")"
   ]
  },
  {
   "cell_type": "markdown",
   "id": "c36fe119",
   "metadata": {},
   "source": [
    "# Lasso"
   ]
  },
  {
   "cell_type": "code",
   "execution_count": 8,
   "id": "ab61cf7b",
   "metadata": {},
   "outputs": [
    {
     "name": "stdout",
     "output_type": "stream",
     "text": [
      "-0.004325196430763461 [ 0.53373341  0.0130469   0.          0.         -0.          0.\n",
      " -0.         -0.         -0.23944712 -0.         -0.         -0.\n",
      " -0.        ]\n",
      "\n",
      "the validation MSE is: 0.44556201720303495\n",
      " the validation MAE is: 0.4929994819521503 \n",
      "\n",
      "the testing MSE is: 0.44374801663127966\n",
      " the testing MAE is: 0.49396384598987064 \n"
     ]
    }
   ],
   "source": [
    "from sklearn.linear_model import Lasso\n",
    "lasso_reg=Lasso(alpha=0.1)\n",
    "lasso_reg.fit(x_train,y_train)\n",
    "print(lasso_reg.intercept_,lasso_reg.coef_)\n",
    "# validation\n",
    "la_y_val_predict=lasso_reg.predict(x_val)\n",
    "val_error_squared=mean_squared_error(y_val,la_y_val_predict)\n",
    "val_error_absolute=mean_absolute_error(y_val,la_y_val_predict)\n",
    "print(f\"\\nthe validation MSE is: {val_error_squared}\\n the validation MAE is: {val_error_absolute} \")\n",
    "#testing\n",
    "la_y_test_predict=lasso_reg.predict(x_test)\n",
    "test_error_squared=mean_squared_error(y_test,la_y_test_predict)\n",
    "test_error_absolute=mean_absolute_error(y_test,la_y_test_predict)\n",
    "print(f\"\\nthe testing MSE is: {test_error_squared}\\n the testing MAE is: {test_error_absolute} \")"
   ]
  },
  {
   "cell_type": "markdown",
   "id": "6f34e84d",
   "metadata": {},
   "source": [
    "# Stocastic Gradient descent"
   ]
  },
  {
   "cell_type": "code",
   "execution_count": 9,
   "id": "62b95c86",
   "metadata": {},
   "outputs": [
    {
     "name": "stdout",
     "output_type": "stream",
     "text": [
      "\n",
      "the validation MSE is: 0.38855064945998874\n",
      " the validation MAE is: 0.4640794435887318 \n",
      "\n",
      "the testing MSE is: 0.4161248953457914\n",
      " the testing MAE is: 0.4796039405520546 \n"
     ]
    }
   ],
   "source": [
    "from sklearn.linear_model import SGDRegressor\n",
    "sgd_reg = SGDRegressor(loss='squared_error', max_iter=1000, learning_rate='optimal', random_state=42)\n",
    "sgd_reg.fit(x_train,y_train)\n",
    "#validation\n",
    "g_y_val_predict=sgd_reg.predict(x_val)\n",
    "val_error_squared=mean_squared_error(y_val,g_y_val_predict)\n",
    "val_error_absolute=mean_absolute_error(y_val,g_y_val_predict)\n",
    "print(f\"\\nthe validation MSE is: {val_error_squared}\\n the validation MAE is: {val_error_absolute} \")\n",
    "#testing\n",
    "g_y_test_predict=sgd_reg.predict(x_test)\n",
    "test_error_squared=mean_squared_error(y_test,g_y_test_predict)\n",
    "test_error_absolute=mean_absolute_error(y_test,g_y_test_predict)\n",
    "print(f\"\\nthe testing MSE is: {test_error_squared}\\n the testing MAE is: {test_error_absolute} \")"
   ]
  },
  {
   "cell_type": "markdown",
   "id": "fe11da74",
   "metadata": {},
   "source": [
    "# Conclusion\n",
    "The normal form finds the weights directly but it gets bad as the features increases and it doesn't require scaling for the data\n",
    "\n",
    "The 'LinearRegression' function that uses the SVD approch and both normal and SVD will handle data with large m if it can fit in the memory but suffers too from the large number of features.\n",
    "\n",
    "The 'ridge' and 'lasso' are linear regression algorithms with a term of regularization added to the equation ,and the main purpose of regularization is to help avoid overfitting , and 'lasso' is doing a feature selection beside the regularization.\n",
    "\n",
    "The batch gradient descent will act badly in this case because it gets very slow as the number of instances increase cause it uses the whole data set each iteration and calculate the error so we used the stocastic gradient descent that acts fast cause it takes just one instance every iteration\n",
    "\n",
    "Team :\n",
    "Meray mohsen basanty :    2205060\n",
    "Ziad yasser fawzy    :    2205022\n",
    "Mohamed ali ghonam   :    2205050\n",
    "Under supervision of :\n",
    "    ENG. Engy Ibrahim"
   ]
  }
 ],
 "metadata": {
  "kernelspec": {
   "display_name": "Python 3 (ipykernel)",
   "language": "python",
   "name": "python3"
  },
  "language_info": {
   "codemirror_mode": {
    "name": "ipython",
    "version": 3
   },
   "file_extension": ".py",
   "mimetype": "text/x-python",
   "name": "python",
   "nbconvert_exporter": "python",
   "pygments_lexer": "ipython3",
   "version": "3.11.5"
  }
 },
 "nbformat": 4,
 "nbformat_minor": 5
}
